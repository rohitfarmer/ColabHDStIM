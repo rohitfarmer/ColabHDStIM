{
  "nbformat": 4,
  "nbformat_minor": 0,
  "metadata": {
    "colab": {
      "provenance": [],
      "collapsed_sections": [],
      "include_colab_link": true
    },
    "kernelspec": {
      "name": "python3",
      "display_name": "Python 3"
    },
    "language_info": {
      "name": "python"
    }
  },
  "cells": [
    {
      "cell_type": "markdown",
      "metadata": {
        "id": "view-in-github",
        "colab_type": "text"
      },
      "source": [
        "<a href=\"https://colab.research.google.com/github/rohitfarmer/ColabHDStIM/blob/main/ColabHDStIM.ipynb\" target=\"_parent\"><img src=\"https://colab.research.google.com/assets/colab-badge.svg\" alt=\"Open In Colab\"/></a>"
      ]
    },
    {
      "cell_type": "markdown",
      "source": [
        "# HDStIM: High Dimensional Stimulation Immune Mapping ('HDStIM')\n",
        "\n",
        "<img src=\"https://raw.githubusercontent.com/niaid/HDStIM/master/man/figures/sticker.png\" height=\"200\" align=\"right\" style=\"height:200px\">\n",
        "\n",
        "A method for identifying responses to experimental stimulation in mass or flow cytometry that uses high dimensional analysis of measured parameters and can be performed with an end-to-end unsupervised approach. \n",
        "\n",
        "Documentation website: [https://niaid.github.io/HDStIM/](https://niaid.github.io/HDStIM/)  \n",
        "Source code: [https://github.com/niaid/HDStIM/](https://github.com/niaid/HDStIM/)  \n",
        "CRAN page: [https://cran.r-project.org/package=HDStIM](https://cran.r-project.org/package=HDStIM)\n"
      ],
      "metadata": {
        "id": "t4e_4eFbg0zh"
      }
    },
    {
      "cell_type": "code",
      "execution_count": null,
      "metadata": {
        "id": "mkDwxW7-IJvy",
        "cellView": "form"
      },
      "outputs": [],
      "source": [
        "#@title 1.1 Load Python packages\n",
        "%load_ext rpy2.ipython\n",
        "import warnings\n",
        "warnings.filterwarnings('ignore')\n",
        "from google.colab import drive\n",
        "from google.colab import data_table\n",
        "%config InlineBackend.figure_format = 'retina'\n"
      ]
    },
    {
      "cell_type": "code",
      "source": [
        "#@title 1.2 Install and load R packages\n",
        "# %%capture --no-stderr\n",
        "%%R\n",
        "if(require(HDStIM)){\n",
        "    print(\"HDStIM is already installed, loading now.\")\n",
        "    suppressMessages(library(HDStIM))    \n",
        "}else {\n",
        "    print(\"HDStIM is not installed, installing now.\")\n",
        "    suppressWarnings(install.packages(\"HDStIM\"))    \n",
        "    suppressMessages(library(HDStIM))\n",
        "}\n",
        "print(\"Loading other R packages.\")\n",
        "suppressMessages(library(tidyverse))"
      ],
      "metadata": {
        "cellView": "form",
        "id": "g0UJnSXncDWQ"
      },
      "execution_count": null,
      "outputs": []
    },
    {
      "cell_type": "markdown",
      "source": [
        "## 2 Example data\n",
        "HDStIM package comes with an example dataset that is used for unit testing during CRAN submission etc. It can also be used as an example on how to format the main single cell marker expression data frame and other parameters passed to the main HDStIM function."
      ],
      "metadata": {
        "id": "qqRSPYAAm0f4"
      }
    },
    {
      "cell_type": "code",
      "source": [
        "#@title 2.1 An example input data frame/tibble for HDStIM\n",
        "data_table.enable_dataframe_formatter()\n",
        "%R head(chi11$expr_data)\n"
      ],
      "metadata": {
        "id": "-h01aBm0Ldo1",
        "cellView": "form"
      },
      "execution_count": null,
      "outputs": []
    },
    {
      "cell_type": "code",
      "source": [
        "#@title 2.2 Examples for other input parameters for HDStIM\n",
        "%%R\n",
        "cat(\"State markers\\n\")\n",
        "cat(chi11$state_markers)\n",
        "cat(\"\\n\\nCluster col\\n\")\n",
        "cat(chi11$cluster_col)\n",
        "cat(\"\\n\\nStim labels\\n\")\n",
        "cat(chi11$stim_label)\n",
        "cat(\"\\n\\nUnstim labels\\n\")\n",
        "cat(chi11$unstim_label)"
      ],
      "metadata": {
        "cellView": "form",
        "id": "wi54_G4Cv0mD"
      },
      "execution_count": null,
      "outputs": []
    },
    {
      "cell_type": "markdown",
      "source": [
        "## 3 Upoad data for the analysis\n",
        "There are multiple ways through which you can upload data into the Colab environment to use with HDStIM. Below are three in order of their speed. \n",
        "\n",
        "1. **Preferred:** uploading data to your/temporary Google Drive and downloading the data using `! gdown` command.\n",
        "2. **As fast as the first one:** mounting your Google Drive in this notebook and giving the path to the data in your Google Drive. This option is very fast, however, *it would require you to give the notebook read and write permision to your Google Drive.*\n",
        "3. **Very very slow:** Using files tab on the left hand side and using the built in colab file upload option. However, it is very slow and might only be *useful for small datasets (< 1GB)*.\n",
        " \n",
        "\n",
        "\n"
      ],
      "metadata": {
        "id": "G7Rmpp9-rD-L"
      }
    },
    {
      "cell_type": "code",
      "source": [
        "#@title 3.1 Upload data from a Google Drive using \"gdown\"\n",
        "download_url = \"\" #@param {type:\"string\"}\n",
        "\n",
        "if download_url == \"\":\n",
        "  print(\"Please enter a url\")\n",
        "else:\n",
        "  ! gdown download_url"
      ],
      "metadata": {
        "cellView": "form",
        "id": "Bj6kfdeCtJnX"
      },
      "execution_count": null,
      "outputs": []
    },
    {
      "cell_type": "code",
      "source": [
        "#@title 3.2 Mount google drive to load and save data (optional)\n",
        "drive.mount('/content/drive/')"
      ],
      "metadata": {
        "cellView": "form",
        "id": "KEin6vp4ff-L"
      },
      "execution_count": null,
      "outputs": []
    },
    {
      "cell_type": "code",
      "source": [
        "#@title 3.3 Read the uploaded data for HDStIM\n",
        "\n",
        "%%R\n",
        "\n",
        "file_type = \"RDS\" #@param [\"TSV\", \"RDS\"]\n",
        "path_to_file = \"/content/input_data.rds\" #@param {type:\"string\"}\n",
        "if(file_type == \"TSV\"){\n",
        "  data_in <- read_tsv(file.path(path_to_file), \n",
        "                      show_col_types = FALSE)\n",
        "} else if(file_type == \"RDS\"){\n",
        "    data_in <- readRDS(file.path(path_to_file))\n",
        "}"
      ],
      "metadata": {
        "cellView": "form",
        "id": "HcaoqI4f9ztb"
      },
      "execution_count": null,
      "outputs": []
    },
    {
      "cell_type": "code",
      "source": [
        "#@title 3.4 Preview input data (optional)\n",
        "%R data_in"
      ],
      "metadata": {
        "cellView": "form",
        "id": "XXYKYsOsAaxs"
      },
      "execution_count": null,
      "outputs": []
    },
    {
      "cell_type": "markdown",
      "source": [
        "## 4 HDSTiM\n",
        "\n",
        "The main HDStIM function requires the following data and parameters.\n",
        "\n",
        "1. `dat:` A tibble with the single cell data. Cells on rows and markers on columns. Mandatory columns include `condition` (contrast conditions), `stim_type` (labels for stimulants), and a column with cell population names. In addition to marker expression and madatory columns other covariates can also be included. \t\n",
        "2. `state_markers:` A character vector with the labels of state markers from the stimulation panel.\n",
        "3. `cellpop_col:` Column in the tibble with the cell population IDs.\n",
        "4. `stim_lab:` A character vector of stim label(s). This list should be the same as stimuli labels in the `stim_type` column.\n",
        "5. `unstim_lab:` A character vector of unstim label(s). This list should be the same as mentioned in the `stim_type` column.\n",
        "6. `umap:` Boolean (TRUE/FALSE) to carry out UMAP on the selected cells.\n",
        "7. `umap_cells:` An integer; for calculating UMAPs take a minimum of `umap_cells` per cluster or the total number of cells if the cluster size is smaller than umap_cells."
      ],
      "metadata": {
        "id": "7_V7A3NlEJoW"
      }
    },
    {
      "cell_type": "code",
      "source": [
        "#@title 4.1 Input parameters for the main HDStIM function\n",
        "%%R\n",
        "#expr_data <- data_in #@param {type:\"raw\"}\n",
        "state_markers <- \"pPLCg2, pSTAT5, AKT, pSTAT1, pP38, pSTAT3, IkBa, pCREB, pERK1_2, pS6\" #@param {type:\"string\"}\n",
        "state_markers <- stringr::str_replace_all(stringr::str_split(state_markers, \",\")[[1]], \" \", \"\")\n",
        "cluster_col <- \"merging1\" #@param {type:\"string\"}\n",
        "stim_label <- \"A\" #@param {type:\"string\"}\n",
        "stim_label <- stringr::str_replace_all(stringr::str_split(stim_label,\",\")[[1]], \" \", \"\")\n",
        "unstim_label <- \"U\" #@param {type:\"string\"}\n",
        "unstim_label <- stringr::str_replace_all(stringr::str_split(unstim_label,\",\")[[1]], \" \", \"\")\n",
        "umap <- \"FALSE\" #@param {type:\"string\"}\n",
        "umap_cells <- 500 #@param {type:\"number\"}"
      ],
      "metadata": {
        "cellView": "form",
        "id": "wJC4eKiCdw9a"
      },
      "execution_count": null,
      "outputs": []
    },
    {
      "cell_type": "code",
      "source": [
        "#@title 4.2 Run HDStIM\n",
        "%%R\n",
        "mapped_data <-  HDStIM(data_in, state_markers, cluster_col, stim_label,\n",
        "                       unstim_label, seed_val = 123, \n",
        "                       umap = umap, umap_cells = umap_cells, \n",
        "                       verbose = FALSE)\n",
        "sig_spc <- dplyr::filter(mapped_data$all_fisher_p_val, p.value < 0.05)\n",
        "n_sig_spc <- nrow(sig_spc)\n"
      ],
      "metadata": {
        "cellView": "form",
        "id": "Na74NaX2eZSx"
      },
      "execution_count": null,
      "outputs": []
    },
    {
      "cell_type": "code",
      "source": [
        "#@title 4.3 Responding populations mapped by HDStIM\n",
        "data_table.enable_dataframe_formatter()\n",
        "%R dplyr::select(sig_spc, stim_type, cell_population, p.value)"
      ],
      "metadata": {
        "cellView": "form",
        "id": "I1_uxEiDiza0"
      },
      "execution_count": null,
      "outputs": []
    },
    {
      "cell_type": "markdown",
      "source": [
        "## 5 HDStIM diagnostic plots"
      ],
      "metadata": {
        "id": "uqjzhZhnJrD-"
      }
    },
    {
      "cell_type": "code",
      "source": [
        "#@title 5.1 Plots to show K-means and Fisher's exact test results { run: \"auto\" }\n",
        "%%R\n",
        "k_plots <- plot_K_Fisher(mapped_data, path = NULL, verbose = FALSE)\n",
        "if(n_sig_spc ==0){\n",
        "    print(\"Nothing to plot here.\")\n",
        "} else if(n_sig_spc > 0){\n",
        "  plot_index_no = 1 #@param {type:\"integer\"}\n",
        "  if(plot_index_no <= n_sig_spc & plot_index_no > 0){\n",
        "    k_plots[[plot_index_no]]        \n",
        "  } else {\n",
        "      print(\"The selected value is not in the index.\")\n",
        "  }\n",
        "}\n",
        "\n"
      ],
      "metadata": {
        "cellView": "form",
        "id": "qR98DuyXefey"
      },
      "execution_count": null,
      "outputs": []
    },
    {
      "cell_type": "code",
      "source": [
        "#@title 5.2 Plots to show pre and post HDStIM response marker distribution { run: \"auto\" }\n",
        "%%R\n",
        "e_plots <- plot_exprs(mapped_data, path = NULL,verbose = FALSE)\n",
        "if(n_sig_spc ==0){\n",
        "    print(\"Nothing to plot here.\")\n",
        "} else if(n_sig_spc > 0){\n",
        "plot_index_no = 1 #@param {type:\"integer\"}\n",
        "  if(plot_index_no <= n_sig_spc & plot_index_no > 0){\n",
        "    e_plots[[plot_index_no]] +\n",
        "        theme(text = element_text(size = 11))       \n",
        "  } else {\n",
        "      print(\"The selected value is not in the index.\")\n",
        "  }\n",
        "}"
      ],
      "metadata": {
        "cellView": "form",
        "id": "lp9Uk2xTmfQ5"
      },
      "execution_count": null,
      "outputs": []
    },
    {
      "cell_type": "code",
      "source": [
        "#@title 5.3 Plots to show responsing and non responding cells on a UMAP { run: \"auto\" }\n",
        "%%R\n",
        "if(\"umap\" %in% names(mapped_data)){\n",
        "  u_plots <- plot_umap(mapped_data, path = NULL, verbose = FALSE)\n",
        "  if(n_sig_spc ==0){\n",
        "      print(\"Nothing to plot here.\")\n",
        "  } else if(n_sig_spc > 0){\n",
        "    plot_index_no = 1 #@param {type:\"integer\"}\n",
        "    if(plot_index_no <= n_sig_spc & plot_index_no > 0){\n",
        "      u_plots[[plot_index_no]]        \n",
        "    } else {\n",
        "        print(\"The selected value is not in the index.\")\n",
        "    }\n",
        "  }    \n",
        "}else{\n",
        "    print(\"Umaps were not generated.\")\n",
        "}\n"
      ],
      "metadata": {
        "cellView": "form",
        "id": "g_MwZokZes0n"
      },
      "execution_count": null,
      "outputs": []
    },
    {
      "cell_type": "markdown",
      "source": [
        "## 6 Rank markers per their contribution to the response \n",
        "\n",
        "Ranking markers per their contribution to the response through Boruta (random forest) is a time intensive step, especially when the the number of cells in a cell population are large. This function is executed for all the significant SPCs. If many markers are labelled as tentative then increase `max_runs` and rerun the function.\n",
        "\n",
        "1. `n_cells:` Number of cells to down sample the data. Default is NULL to include all the cells.\n",
        "2. `max_runs:` Maximum number of runs for the random forest algorithm. Default is 100.\n"
      ],
      "metadata": {
        "id": "OOmyTO1xJxKF"
      }
    },
    {
      "cell_type": "code",
      "source": [
        "#@title 6.1 Run marker ranking\n",
        "%%R \n",
        "n_cells <- \"NULL\" #@param {type:\"string\"}\n",
        "if(n_cells == \"NULL\"){\n",
        "    n_cells <- NULL\n",
        "} else {\n",
        "    n_cells <- as.integer(n_cells)\n",
        "}\n",
        "max_runs <- 100 #@param {type:\"integer\"}\n",
        "\n",
        "m_ranks <- marker_ranking_boruta(mapped_data, path = NULL, n_cells = n_cells,\n",
        "                                 max_runs = max_runs, seed_val = 123,\n",
        "                                 verbose = FALSE)"
      ],
      "metadata": {
        "cellView": "form",
        "id": "XbiWewDPqd37"
      },
      "execution_count": null,
      "outputs": []
    },
    {
      "cell_type": "code",
      "source": [
        "#@title 6.2 Marker ranking summary\n",
        "%R m_ranks$attribute_stats"
      ],
      "metadata": {
        "cellView": "form",
        "id": "NTa3C2zI1c5P"
      },
      "execution_count": null,
      "outputs": []
    },
    {
      "cell_type": "code",
      "source": [
        "#@title 6.3 Plots to show marker ranking results { run: \"auto\" }\n",
        "%%R\n",
        "if(n_sig_spc ==0){\n",
        "    print(\"Nothing to plot here.\")\n",
        "} else if(n_sig_spc > 0){\n",
        "  plot_index_no = 1 #@param {type:\"integer\"}\n",
        "  if(plot_index_no <= n_sig_spc & plot_index_no > 0){\n",
        "    m_ranks$plots[[plot_index_no]] +\n",
        "    theme(text = element_text(size = 12))\n",
        "  } else {\n",
        "      print(\"The selected value is not in the index.\")\n",
        "  }\n",
        "}\n",
        "\n"
      ],
      "metadata": {
        "cellView": "form",
        "id": "qmbDzTRY5-EM"
      },
      "execution_count": null,
      "outputs": []
    },
    {
      "cell_type": "markdown",
      "source": [
        "## 7 Download analysis results\n",
        "You can save all the analysis result in your Google drive; if you have mounted it. Else save files locally in the Colab runtime and then download them individually to your local machine **(preferred)**.  "
      ],
      "metadata": {
        "id": "cJbAF-KWOS91"
      }
    },
    {
      "cell_type": "code",
      "source": [
        "#@title 7.1 Output folder\n",
        "%%R\n",
        "path_to_output_folder = \"/content/hdstim-out\" #@param {type:\"string\"}\n",
        "if(file.exists(path_to_output_folder)){\n",
        "    cat(\"WARNING: Output folder exists. Results will be over written.\")\n",
        "} else{\n",
        "    cat(\"WARNING: Output folder does not exists. Please create one.\")\n",
        "}\n"
      ],
      "metadata": {
        "cellView": "form",
        "id": "rjPWeiO26AOS"
      },
      "execution_count": null,
      "outputs": []
    },
    {
      "cell_type": "code",
      "source": [
        "#@title 7.2 Save HDStIM output and diagnostic plots in the output folder\n",
        "%%R\n",
        "saveRDS(mapped_data, file.path(path_to_output_folder, \n",
        "                               \"hdstim-main-out.rds\"))\n",
        "write_tsv(mapped_data$all_fisher_p_val, file.path(path_to_output_folder, \n",
        "                                                  \"all-fisher-data.tsv\"))\n",
        "\n",
        "# HDStIM diagnostic plots\n",
        "## K Fisher plots\n",
        "theme_set(theme_grey())\n",
        "k_plots_path <- file.path(path_to_output_folder, \"k-fisher-plots\")\n",
        "dir.create(k_plots_path, recursive = TRUE, showWarnings = FALSE )\n",
        "k_plots <- plot_K_Fisher(mapped_data, path = k_plots_path, verbose = FALSE)\n",
        "### Create tar.gz and delete individual plot files\n",
        "tar(file.path(path_to_output_folder,\"k-fisher-plots.tar.gz\")\n",
        ", files=k_plots_path, compression=\"gzip\")\n",
        "### Delete original uncompressed files\n",
        "delete_uncompressed_files_k = \"TRUE\" #@param {type:\"string\"}\n",
        "if(delete_uncompressed_files_k == \"TRUE\") {\n",
        "    unlink(k_plots_path, recursive = TRUE)\n",
        "}\n",
        "\n",
        "## Pre and post HDStIM maker expression plots\n",
        "theme_set(theme_grey())\n",
        "e_plots_path <- file.path(path_to_output_folder, \"pre-post-hdstim-expr-plots\")\n",
        "dir.create(e_plots_path, recursive = TRUE, showWarnings = FALSE )\n",
        "e_plots <- plot_exprs(mapped_data, path = e_plots_path,verbose = FALSE)\n",
        "### Create tar.gz and delete individual plot files\n",
        "tar(file.path(path_to_output_folder,\"pre-post-hdstim-expr-plots.tar.gz\")\n",
        ", files=e_plots_path, compression=\"gzip\")\n",
        "### Delete original uncompressed files\n",
        "delete_uncompressed_files_e = \"TRUE\" #@param {type:\"string\"}\n",
        "if(delete_uncompressed_files_e == \"TRUE\") {\n",
        "    unlink(e_plots_path, recursive = TRUE)\n",
        "}\n",
        "\n",
        "## UMAP if UMAPs are generated during HDStIM\n",
        "if(\"umap\" %in% names(mapped_data)){\n",
        "    theme_set(theme_grey())\n",
        "    u_plots_path <- file.path(path_to_output_folder, \"umap-plots\")\n",
        "    dir.create(u_plots_path, recursive = TRUE, showWarnings = FALSE )\n",
        "    u_plots <- plot_umap(mapped_data, path = u_plots_path, verbose = FALSE)\n",
        "    ### Create tar.gz and delete individual plot files\n",
        "    tar(file.path(path_to_output_folder,\"umap-plots.tar.gz\")\n",
        "    , files=u_plots_path, compression=\"gzip\")\n",
        "    ### Delete original uncompressed files\n",
        "    delete_uncompressed_files_u = \"TRUE\" #@param {type:\"string\"}\n",
        "    if(delete_uncompressed_files_u == \"TRUE\") {\n",
        "      unlink(u_plots_path, recursive = TRUE)\n",
        "  }\n",
        "}\n"
      ],
      "metadata": {
        "cellView": "form",
        "id": "_YsnN2PGPKAj"
      },
      "execution_count": null,
      "outputs": []
    },
    {
      "cell_type": "code",
      "source": [
        "#@title 7.3 Save marker ranking output and plots (if marker ranking was executed)\n",
        "%%R\n",
        "saveRDS(m_ranks, file.path(path_to_output_folder, \n",
        "                           \"marker-ranking-main-out.rds\"))\n",
        "write_tsv(m_ranks$attribute_stats, file.path(path_to_output_folder, \n",
        "                                             \"marker-ranking-attributes-table.tsv\"))\n",
        "\n",
        "# Marker ranking plots\n",
        "c_s_comb <- m_ranks$attribute_stats %>% dplyr::select(stim_type, cell_population) %>%\n",
        "dplyr::group_by(, stim_type, cell_population) %>%\n",
        "ungroup() %>%\n",
        "unique()\n",
        "\n",
        "theme_set(theme_grey())\n",
        "mr_plots_path <- file.path(path_to_output_folder, \"marker-ranking-plots\")\n",
        "dir.create(mr_plots_path, recursive = TRUE, showWarnings = FALSE )\n",
        "for(i in 1:nrow(c_s_comb)){\n",
        "    att_plot <- m_ranks$plots[[i]]\n",
        "    stim <- c_s_comb$stim_type[i]\n",
        "    clust <- c_s_comb$cell_population[i]\n",
        "    att_file <- paste0(\"imp_\", stim, \"_\", clust, \".png\")\n",
        "    ggsave(att_file, plot = att_plot, path = mr_plots_path,\n",
        "           device = \"png\", dpi = 300, width = 7, height = 6, units = \"in\")\n",
        "}\n",
        "\n",
        "# Create tar.gz and delete individual plot files\n",
        "tar(file.path(path_to_output_folder,\"marker-ranking-plots.tar.gz\")\n",
        ", files=mr_plots_path, compression=\"gzip\")\n",
        "\n",
        "# Delete original uncompressed files\n",
        "delete_uncompressed_files = \"TRUE\" #@param {type:\"string\"}\n",
        "if(delete_uncompressed_files == \"TRUE\") {\n",
        "    unlink(mr_plots_path, recursive = TRUE)\n",
        "}\n"
      ],
      "metadata": {
        "cellView": "form",
        "id": "zFtwbvo5Pz32"
      },
      "execution_count": null,
      "outputs": []
    },
    {
      "cell_type": "markdown",
      "source": [
        "# Done\n"
      ],
      "metadata": {
        "id": "lYHgOmXFiyw7"
      }
    }
  ]
}